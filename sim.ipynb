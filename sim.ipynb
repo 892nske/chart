{
 "cells": [
  {
   "cell_type": "markdown",
   "metadata": {},
   "source": [
    "# 将来のリターンのシミュレーション\n",
    "リターン$ \\mu $、リスク$ \\sigma $が与えられた場合の将来のパフォーマンスを考える\n",
    "\n",
    "ここで$ \\mu $、$ \\sigma $はそれぞれ年率換算された期待収益率および収益率の標準偏差とする\n",
    "\n"
   ]
  },
  {
   "cell_type": "code",
   "execution_count": null,
   "metadata": {},
   "outputs": [],
   "source": []
  }
 ],
 "metadata": {
  "kernelspec": {
   "display_name": "Python 3",
   "language": "python",
   "name": "python3"
  },
  "language_info": {
   "codemirror_mode": {
    "name": "ipython",
    "version": 3
   },
   "file_extension": ".py",
   "mimetype": "text/x-python",
   "name": "python",
   "nbconvert_exporter": "python",
   "pygments_lexer": "ipython3",
   "version": "3.7.9"
  }
 },
 "nbformat": 4,
 "nbformat_minor": 4
}
