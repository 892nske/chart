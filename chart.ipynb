{
 "cells": [
  {
   "cell_type": "code",
   "execution_count": 1,
   "metadata": {},
   "outputs": [],
   "source": [
    "import numpy as np\n",
    "import pandas as pd"
   ]
  },
  {
   "cell_type": "code",
   "execution_count": 4,
   "metadata": {},
   "outputs": [],
   "source": [
    "# 期待収益率、リスク\n",
    "mu = 0.05\n",
    "sigma = 0.1\n",
    "\n",
    "# チャート表示のパラメタ\n",
    "year = 30\n",
    "ganpon = 100\n",
    "\n",
    "# 連続福利収益率の平均標準偏差に変換\n",
    "s = np.sqrt(np.log(1+(sigma/(1+mu))**2))\n",
    "r = np.log(1+mu)-(s**2)/2\n",
    "# ラッパデータ作成\n",
    "rappa = pd.DataFrame(np.arange(year+1),columns=['year'])\n",
    "rappa['mean'] = rappa['year']*r\n",
    "rappa['sd'] = np.sqrt(rappa['year'])*s\n",
    "rappa['m3'] = ganpon*np.exp(rappa['mean']-3*rappa['sd'])\n",
    "rappa['m2'] = ganpon*np.exp(rappa['mean']-2*rappa['sd'])\n",
    "rappa['m1'] = ganpon*np.exp(rappa['mean']-1*rappa['sd'])\n",
    "rappa['c'] = ganpon*np.exp(rappa['mean']-0*rappa['sd'])\n",
    "rappa['p1'] = ganpon*np.exp(rappa['mean']+1*rappa['sd'])\n",
    "rappa['p2'] = ganpon*np.exp(rappa['mean']+2*rappa['sd'])\n",
    "rappa['p3'] = ganpon*np.exp(rappa['mean']+3*rappa['sd'])"
   ]
  },
  {
   "cell_type": "code",
   "execution_count": null,
   "metadata": {},
   "outputs": [],
   "source": [
    "# チャートを表示"
   ]
  }
 ],
 "metadata": {
  "kernelspec": {
   "display_name": "Python 3",
   "language": "python",
   "name": "python3"
  },
  "language_info": {
   "codemirror_mode": {
    "name": "ipython",
    "version": 3
   },
   "file_extension": ".py",
   "mimetype": "text/x-python",
   "name": "python",
   "nbconvert_exporter": "python",
   "pygments_lexer": "ipython3",
   "version": "3.7.9"
  }
 },
 "nbformat": 4,
 "nbformat_minor": 4
}
