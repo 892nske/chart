{
 "cells": [
  {
   "cell_type": "code",
   "execution_count": 1,
   "id": "1abc0f77-c464-41be-b719-6c544af503c8",
   "metadata": {},
   "outputs": [],
   "source": [
    "import numpy as np\n",
    "import matplotlib.pyplot as plt\n",
    "from scipy.stats import norm\n",
    "import pandas as pd"
   ]
  },
  {
   "cell_type": "code",
   "execution_count": 7,
   "id": "e89fb148-28ac-4625-94b8-09707668bb5b",
   "metadata": {},
   "outputs": [],
   "source": [
    "# ---------- パラメータ ----------\n",
    "r   = 0.077      # 5% 算術平均リターン\n",
    "s   = 0.111      # 10% 算術標準偏差\n",
    "S0  = 700.0     # 初期元本\n",
    "T   = 30        # 投資期間（年）\n",
    "T_rand = 100    # 乱数の生成年数\n",
    "mon = 12        # 1年を12か月で算出\n",
    "N   = 10_000   # Monte Carlo パス数\n",
    "seed = 2025"
   ]
  },
  {
   "cell_type": "code",
   "execution_count": 8,
   "id": "b6f4de79-2e22-4044-9b68-7bf30a5498e7",
   "metadata": {},
   "outputs": [],
   "source": [
    "# 連続複利収益率のパラメタに変換\n",
    "sigma2 = np.log(1.0 + (s / (1.0 + r)) ** 2)\n",
    "mu = np.log(1.0 + r) - 0.5 * sigma2\n",
    "sigma = np.sqrt(sigma2)"
   ]
  },
  {
   "cell_type": "code",
   "execution_count": 14,
   "id": "3533ed96-ab78-451a-8a84-8cb9ec73a7e3",
   "metadata": {},
   "outputs": [],
   "source": [
    "rng = np.random.default_rng(seed)\n",
    "Y_all = rng.normal(loc=0, scale=1, size=(N, T_rand*mon))\n",
    "Y = Y_all[:,:T*mon]\n",
    "R = np.exp(mu/mon + Y*sigma/np.sqrt(mon)) - 1.0          \n",
    "prices = S0 * np.prod(1.0 + R, axis=1)\n",
    "qs = np.array([0.10, 0.30, 0.50, 0.70, 0.90])\n",
    "# analytic_q = gbm_quantiles(mu, sigma, S0, T, qs)\n",
    "mc_q = np.quantile(prices, qs)"
   ]
  },
  {
   "cell_type": "code",
   "execution_count": 15,
   "id": "cd20bac5-1a20-41e3-8f55-7a6959ee7981",
   "metadata": {},
   "outputs": [
    {
     "name": "stdout",
     "output_type": "stream",
     "text": [
      "[ 2655.67199134  4106.04004322  5499.72776113  7388.9530629\n",
      " 11345.75677133]\n"
     ]
    }
   ],
   "source": [
    "print(mc_q)"
   ]
  },
  {
   "cell_type": "code",
   "execution_count": 17,
   "id": "ac38e195-c6c7-4d55-824d-6d260d9970b3",
   "metadata": {},
   "outputs": [],
   "source": [
    "np.savetxt('rand0.csv', Y_all.T, delimiter='\\t')"
   ]
  },
  {
   "cell_type": "code",
   "execution_count": null,
   "id": "b3c8456a-ee50-4c21-adae-a2b18e7b8ba2",
   "metadata": {},
   "outputs": [],
   "source": []
  }
 ],
 "metadata": {
  "kernelspec": {
   "display_name": "Python 3 (ipykernel)",
   "language": "python",
   "name": "python3"
  },
  "language_info": {
   "codemirror_mode": {
    "name": "ipython",
    "version": 3
   },
   "file_extension": ".py",
   "mimetype": "text/x-python",
   "name": "python",
   "nbconvert_exporter": "python",
   "pygments_lexer": "ipython3",
   "version": "3.11.5"
  }
 },
 "nbformat": 4,
 "nbformat_minor": 5
}
