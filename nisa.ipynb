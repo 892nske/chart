{
 "cells": [
  {
   "cell_type": "code",
   "execution_count": 1,
   "id": "7b6e9593-28de-4720-8d5e-bfd0ae32b6c3",
   "metadata": {},
   "outputs": [],
   "source": [
    "import numpy as np\n",
    "import pandas as pd\n",
    "import matplotlib.pyplot as plt"
   ]
  },
  {
   "cell_type": "code",
   "execution_count": 10,
   "id": "75b2a0c5-1df6-46ed-a8f3-1af839046d28",
   "metadata": {},
   "outputs": [],
   "source": [
    "asset_class = [{'asset_class':'jp_stock','return':0.056,'risk':0.2314},\n",
    "               {'asset_class':'jp_bond','return':0.007,'risk':0.0256},\n",
    "               {'asset_class':'foreign_stock','return':0.072,'risk':0.2485},\n",
    "               {'asset_class':'foreign_bond','return':0.026,'risk':0.1187}\n",
    "              ]"
   ]
  },
  {
   "cell_type": "code",
   "execution_count": 14,
   "id": "20d70bfb-c4f9-4a9d-bd5c-9dc9ab7ed97e",
   "metadata": {},
   "outputs": [],
   "source": [
    "year = 15\n",
    "month = year*12\n",
    "sim_num = 10000\n",
    "\n",
    "for asset in asset_class:\n",
    "    asset_class_name = asset['asset_class']\n",
    "    mu = asset['return']\n",
    "    sigma = asset['risk']\n",
    "    s = np.sqrt(np.log(1+(sigma/(1+mu))**2))\n",
    "    r = np.log(1+mu)-(s**2)/2\n",
    "    sm = s/12\n",
    "    rm = r/np.sqrt(12)\n",
    "    ranmat = np.random.normal(rm,sm,(year*12,sim_num))\n",
    "    expmat = np.exp(ranmat)\n",
    "    primat = np.cumprod(expmat,axis=0)\n",
    "    data = pd.DataFrame(primat)\n",
    "    data.to_csv(asset_class_name+'_price.csv')"
   ]
  },
  {
   "cell_type": "code",
   "execution_count": null,
   "id": "9aa0b802-5a03-4cc7-bbbf-abfdbc59aa84",
   "metadata": {},
   "outputs": [],
   "source": []
  }
 ],
 "metadata": {
  "kernelspec": {
   "display_name": "Python 3 (ipykernel)",
   "language": "python",
   "name": "python3"
  },
  "language_info": {
   "codemirror_mode": {
    "name": "ipython",
    "version": 3
   },
   "file_extension": ".py",
   "mimetype": "text/x-python",
   "name": "python",
   "nbconvert_exporter": "python",
   "pygments_lexer": "ipython3",
   "version": "3.8.12"
  }
 },
 "nbformat": 4,
 "nbformat_minor": 5
}
